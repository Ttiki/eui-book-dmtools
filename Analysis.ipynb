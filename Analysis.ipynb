{
 "cells": [
  {
   "cell_type": "code",
   "id": "initial_id",
   "metadata": {
    "collapsed": true,
    "ExecuteTime": {
     "end_time": "2024-09-05T16:44:07.350364Z",
     "start_time": "2024-09-05T16:44:07.348973Z"
    }
   },
   "source": [
    ""
   ],
   "outputs": [],
   "execution_count": null
  },
  {
   "metadata": {},
   "cell_type": "markdown",
   "source": "### Extracting text from the PDF reports (DATA MINING)",
   "id": "8d5f119dbad9e397"
  },
  {
   "metadata": {
    "ExecuteTime": {
     "end_time": "2024-09-05T16:44:07.884144Z",
     "start_time": "2024-09-05T16:44:07.360471Z"
    }
   },
   "cell_type": "code",
   "source": [
    "import re\n",
    "import os\n",
    "import pdfminer\n",
    "import nltk\n",
    "from nltk.tokenize import word_tokenize\n",
    "from nltk.corpus import stopwords\n",
    "import spacy\n",
    "from spacy import displacy\n",
    "\n",
    "# Load the spaCy model\n",
    "nlp = spacy.load('en_core_web_sm')\n",
    "\n",
    "# Set the directory path\n",
    "reports_dir = './Reports'\n",
    "\n",
    "# Iterate over the PDF files in the directory\n",
    "for filename in os.listdir(reports_dir):\n",
    "    if filename.endswith('.pdf'):\n",
    "        # Open the PDF file\n",
    "        with open(os.path.join(reports_dir, filename), 'rb') as f:\n",
    "            pdf = pdfminer.PDFDocument(f)\n",
    "\n",
    "            # Extract the text from the PDF\n",
    "            text = ''\n",
    "            for page in pdf.get_pages():\n",
    "                text += page.extract_text()\n",
    "\n",
    "            # Preprocess the text\n",
    "            tokens = word_tokenize(text.lower())\n",
    "            tokens = [t for t in tokens if t not in stopwords.words('english')]\n",
    "\n",
    "            # Process the text using spaCy\n",
    "            doc = nlp(text)\n",
    "\n",
    "            # Extract entities\n",
    "            entities = [(ent.text, ent.label_) for ent in doc.ents]\n",
    "\n",
    "            # Extract keywords\n",
    "            keywords = [token.text for token in doc if token.is_alpha and token.is_stop]\n",
    "\n",
    "            # Search for patterns\n",
    "            pattern = r'sustainability|social responsibility|impact report'\n",
    "            matches = re.findall(pattern, text)\n",
    "\n",
    "            # Extract relevant information\n",
    "            information = []\n",
    "            for match in matches:\n",
    "                # Extract the sentence surrounding the match\n",
    "                sentence = ''\n",
    "                for sent in nltk.sent_tokenize(text):\n",
    "                    if match in sent:\n",
    "                        sentence = sent\n",
    "                        break\n",
    "                information.append((match, sentence))\n",
    "\n",
    "            print(f\"Processed file: {filename}\")\n",
    "            print(information)\n"
   ],
   "id": "8a132a5872fc64b2",
   "outputs": [
    {
     "ename": "ValueError",
     "evalue": "numpy.dtype size changed, may indicate binary incompatibility. Expected 96 from C header, got 88 from PyObject",
     "output_type": "error",
     "traceback": [
      "\u001B[0;31m---------------------------------------------------------------------------\u001B[0m",
      "\u001B[0;31mValueError\u001B[0m                                Traceback (most recent call last)",
      "Cell \u001B[0;32mIn[1], line 7\u001B[0m\n\u001B[1;32m      5\u001B[0m \u001B[38;5;28;01mfrom\u001B[39;00m \u001B[38;5;21;01mnltk\u001B[39;00m\u001B[38;5;21;01m.\u001B[39;00m\u001B[38;5;21;01mtokenize\u001B[39;00m \u001B[38;5;28;01mimport\u001B[39;00m word_tokenize\n\u001B[1;32m      6\u001B[0m \u001B[38;5;28;01mfrom\u001B[39;00m \u001B[38;5;21;01mnltk\u001B[39;00m\u001B[38;5;21;01m.\u001B[39;00m\u001B[38;5;21;01mcorpus\u001B[39;00m \u001B[38;5;28;01mimport\u001B[39;00m stopwords\n\u001B[0;32m----> 7\u001B[0m \u001B[38;5;28;01mimport\u001B[39;00m \u001B[38;5;21;01mspacy\u001B[39;00m\n\u001B[1;32m      8\u001B[0m \u001B[38;5;28;01mfrom\u001B[39;00m \u001B[38;5;21;01mspacy\u001B[39;00m \u001B[38;5;28;01mimport\u001B[39;00m displacy\n\u001B[1;32m     10\u001B[0m \u001B[38;5;66;03m# Load the spaCy model\u001B[39;00m\n",
      "File \u001B[0;32m~/DataspellProjects/UEIbooks/venv/lib/python3.9/site-packages/spacy/__init__.py:6\u001B[0m\n\u001B[1;32m      3\u001B[0m \u001B[38;5;28;01mfrom\u001B[39;00m \u001B[38;5;21;01mtyping\u001B[39;00m \u001B[38;5;28;01mimport\u001B[39;00m Any, Dict, Iterable, Union\n\u001B[1;32m      5\u001B[0m \u001B[38;5;66;03m# set library-specific custom warning handling before doing anything else\u001B[39;00m\n\u001B[0;32m----> 6\u001B[0m \u001B[38;5;28;01mfrom\u001B[39;00m \u001B[38;5;21;01m.\u001B[39;00m\u001B[38;5;21;01merrors\u001B[39;00m \u001B[38;5;28;01mimport\u001B[39;00m setup_default_warnings\n\u001B[1;32m      8\u001B[0m setup_default_warnings()  \u001B[38;5;66;03m# noqa: E402\u001B[39;00m\n\u001B[1;32m     10\u001B[0m \u001B[38;5;66;03m# These are imported as part of the API\u001B[39;00m\n",
      "File \u001B[0;32m~/DataspellProjects/UEIbooks/venv/lib/python3.9/site-packages/spacy/errors.py:3\u001B[0m\n\u001B[1;32m      1\u001B[0m \u001B[38;5;28;01mimport\u001B[39;00m \u001B[38;5;21;01mwarnings\u001B[39;00m\n\u001B[0;32m----> 3\u001B[0m \u001B[38;5;28;01mfrom\u001B[39;00m \u001B[38;5;21;01m.\u001B[39;00m\u001B[38;5;21;01mcompat\u001B[39;00m \u001B[38;5;28;01mimport\u001B[39;00m Literal\n\u001B[1;32m      6\u001B[0m \u001B[38;5;28;01mclass\u001B[39;00m \u001B[38;5;21;01mErrorsWithCodes\u001B[39;00m(\u001B[38;5;28mtype\u001B[39m):\n\u001B[1;32m      7\u001B[0m     \u001B[38;5;28;01mdef\u001B[39;00m \u001B[38;5;21m__getattribute__\u001B[39m(\u001B[38;5;28mself\u001B[39m, code):\n",
      "File \u001B[0;32m~/DataspellProjects/UEIbooks/venv/lib/python3.9/site-packages/spacy/compat.py:39\u001B[0m\n\u001B[1;32m     36\u001B[0m \u001B[38;5;28;01mexcept\u001B[39;00m \u001B[38;5;167;01mImportError\u001B[39;00m:\n\u001B[1;32m     37\u001B[0m     \u001B[38;5;28;01mfrom\u001B[39;00m \u001B[38;5;21;01mcatalogue\u001B[39;00m \u001B[38;5;28;01mimport\u001B[39;00m _importlib_metadata \u001B[38;5;28;01mas\u001B[39;00m importlib_metadata  \u001B[38;5;66;03m# type: ignore[no-redef]    # noqa: F401\u001B[39;00m\n\u001B[0;32m---> 39\u001B[0m \u001B[38;5;28;01mfrom\u001B[39;00m \u001B[38;5;21;01mthinc\u001B[39;00m\u001B[38;5;21;01m.\u001B[39;00m\u001B[38;5;21;01mapi\u001B[39;00m \u001B[38;5;28;01mimport\u001B[39;00m Optimizer  \u001B[38;5;66;03m# noqa: F401\u001B[39;00m\n\u001B[1;32m     41\u001B[0m pickle \u001B[38;5;241m=\u001B[39m pickle\n\u001B[1;32m     42\u001B[0m copy_reg \u001B[38;5;241m=\u001B[39m copy_reg\n",
      "File \u001B[0;32m~/DataspellProjects/UEIbooks/venv/lib/python3.9/site-packages/thinc/api.py:1\u001B[0m\n\u001B[0;32m----> 1\u001B[0m \u001B[38;5;28;01mfrom\u001B[39;00m \u001B[38;5;21;01m.\u001B[39;00m\u001B[38;5;21;01mbackends\u001B[39;00m \u001B[38;5;28;01mimport\u001B[39;00m (\n\u001B[1;32m      2\u001B[0m     CupyOps,\n\u001B[1;32m      3\u001B[0m     MPSOps,\n\u001B[1;32m      4\u001B[0m     NumpyOps,\n\u001B[1;32m      5\u001B[0m     Ops,\n\u001B[1;32m      6\u001B[0m     get_current_ops,\n\u001B[1;32m      7\u001B[0m     get_ops,\n\u001B[1;32m      8\u001B[0m     set_current_ops,\n\u001B[1;32m      9\u001B[0m     set_gpu_allocator,\n\u001B[1;32m     10\u001B[0m     use_ops,\n\u001B[1;32m     11\u001B[0m     use_pytorch_for_gpu_memory,\n\u001B[1;32m     12\u001B[0m     use_tensorflow_for_gpu_memory,\n\u001B[1;32m     13\u001B[0m )\n\u001B[1;32m     14\u001B[0m \u001B[38;5;28;01mfrom\u001B[39;00m \u001B[38;5;21;01m.\u001B[39;00m\u001B[38;5;21;01mcompat\u001B[39;00m \u001B[38;5;28;01mimport\u001B[39;00m enable_mxnet, enable_tensorflow, has_cupy\n\u001B[1;32m     15\u001B[0m \u001B[38;5;28;01mfrom\u001B[39;00m \u001B[38;5;21;01m.\u001B[39;00m\u001B[38;5;21;01mconfig\u001B[39;00m \u001B[38;5;28;01mimport\u001B[39;00m Config, ConfigValidationError, registry\n",
      "File \u001B[0;32m~/DataspellProjects/UEIbooks/venv/lib/python3.9/site-packages/thinc/backends/__init__.py:17\u001B[0m\n\u001B[1;32m     15\u001B[0m \u001B[38;5;28;01mfrom\u001B[39;00m \u001B[38;5;21;01m.\u001B[39;00m\u001B[38;5;21;01m_cupy_allocators\u001B[39;00m \u001B[38;5;28;01mimport\u001B[39;00m cupy_pytorch_allocator, cupy_tensorflow_allocator\n\u001B[1;32m     16\u001B[0m \u001B[38;5;28;01mfrom\u001B[39;00m \u001B[38;5;21;01m.\u001B[39;00m\u001B[38;5;21;01m_param_server\u001B[39;00m \u001B[38;5;28;01mimport\u001B[39;00m ParamServer\n\u001B[0;32m---> 17\u001B[0m \u001B[38;5;28;01mfrom\u001B[39;00m \u001B[38;5;21;01m.\u001B[39;00m\u001B[38;5;21;01mcupy_ops\u001B[39;00m \u001B[38;5;28;01mimport\u001B[39;00m CupyOps\n\u001B[1;32m     18\u001B[0m \u001B[38;5;28;01mfrom\u001B[39;00m \u001B[38;5;21;01m.\u001B[39;00m\u001B[38;5;21;01mmps_ops\u001B[39;00m \u001B[38;5;28;01mimport\u001B[39;00m MPSOps\n\u001B[1;32m     19\u001B[0m \u001B[38;5;28;01mfrom\u001B[39;00m \u001B[38;5;21;01m.\u001B[39;00m\u001B[38;5;21;01mnumpy_ops\u001B[39;00m \u001B[38;5;28;01mimport\u001B[39;00m NumpyOps\n",
      "File \u001B[0;32m~/DataspellProjects/UEIbooks/venv/lib/python3.9/site-packages/thinc/backends/cupy_ops.py:16\u001B[0m\n\u001B[1;32m      6\u001B[0m \u001B[38;5;28;01mfrom\u001B[39;00m \u001B[38;5;21;01m.\u001B[39;00m\u001B[38;5;21;01m.\u001B[39;00m\u001B[38;5;21;01mutil\u001B[39;00m \u001B[38;5;28;01mimport\u001B[39;00m (\n\u001B[1;32m      7\u001B[0m     is_cupy_array,\n\u001B[1;32m      8\u001B[0m     is_mxnet_gpu_array,\n\u001B[0;32m   (...)\u001B[0m\n\u001B[1;32m     13\u001B[0m     torch2xp,\n\u001B[1;32m     14\u001B[0m )\n\u001B[1;32m     15\u001B[0m \u001B[38;5;28;01mfrom\u001B[39;00m \u001B[38;5;21;01m.\u001B[39;00m \u001B[38;5;28;01mimport\u001B[39;00m _custom_kernels\n\u001B[0;32m---> 16\u001B[0m \u001B[38;5;28;01mfrom\u001B[39;00m \u001B[38;5;21;01m.\u001B[39;00m\u001B[38;5;21;01mnumpy_ops\u001B[39;00m \u001B[38;5;28;01mimport\u001B[39;00m NumpyOps\n\u001B[1;32m     17\u001B[0m \u001B[38;5;28;01mfrom\u001B[39;00m \u001B[38;5;21;01m.\u001B[39;00m\u001B[38;5;21;01mops\u001B[39;00m \u001B[38;5;28;01mimport\u001B[39;00m Ops\n\u001B[1;32m     20\u001B[0m \u001B[38;5;129m@registry\u001B[39m\u001B[38;5;241m.\u001B[39mops(\u001B[38;5;124m\"\u001B[39m\u001B[38;5;124mCupyOps\u001B[39m\u001B[38;5;124m\"\u001B[39m)\n\u001B[1;32m     21\u001B[0m \u001B[38;5;28;01mclass\u001B[39;00m \u001B[38;5;21;01mCupyOps\u001B[39;00m(Ops):\n",
      "File \u001B[0;32m~/DataspellProjects/UEIbooks/venv/lib/python3.9/site-packages/thinc/backends/numpy_ops.pyx:1\u001B[0m, in \u001B[0;36minit thinc.backends.numpy_ops\u001B[0;34m()\u001B[0m\n",
      "\u001B[0;31mValueError\u001B[0m: numpy.dtype size changed, may indicate binary incompatibility. Expected 96 from C header, got 88 from PyObject"
     ]
    }
   ],
   "execution_count": 1
  }
 ],
 "metadata": {
  "kernelspec": {
   "display_name": "Python 3",
   "language": "python",
   "name": "python3"
  },
  "language_info": {
   "codemirror_mode": {
    "name": "ipython",
    "version": 2
   },
   "file_extension": ".py",
   "mimetype": "text/x-python",
   "name": "python",
   "nbconvert_exporter": "python",
   "pygments_lexer": "ipython2",
   "version": "2.7.6"
  }
 },
 "nbformat": 4,
 "nbformat_minor": 5
}
