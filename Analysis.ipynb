{
 "cells": [
  {
   "cell_type": "code",
   "execution_count": null,
   "id": "initial_id",
   "metadata": {
    "collapsed": true
   },
   "outputs": [],
   "source": [
    ""
   ]
  },
  {
   "metadata": {},
   "cell_type": "markdown",
   "source": "### Extracting text from the PDF reports (DATA MINING)",
   "id": "8d5f119dbad9e397"
  },
  {
   "metadata": {},
   "cell_type": "code",
   "outputs": [],
   "execution_count": null,
   "source": [
    "import re\n",
    "import os\n",
    "import pdfminer\n",
    "import nltk\n",
    "from nltk.tokenize import word_tokenize\n",
    "from nltk.corpus import stopwords\n",
    "import spacy\n",
    "from spacy import displacy\n",
    "\n",
    "# Load the spaCy model\n",
    "nlp = spacy.load('en_core_web_sm')\n",
    "\n",
    "# Set the directory path\n",
    "reports_dir = './Reports'\n",
    "\n",
    "# Iterate over the PDF files in the directory\n",
    "for filename in os.listdir(reports_dir):\n",
    "    if filename.endswith('.pdf'):\n",
    "        # Open the PDF file\n",
    "        with open(os.path.join(reports_dir, filename), 'rb') as f:\n",
    "            pdf = pdfminer.PDFDocument(f)\n",
    "\n",
    "            # Extract the text from the PDF\n",
    "            text = ''\n",
    "            for page in pdf.get_pages():\n",
    "                text += page.extract_text()\n",
    "\n",
    "            # Preprocess the text\n",
    "            tokens = word_tokenize(text.lower())\n",
    "            tokens = [t for t in tokens if t not in stopwords.words('english')]\n",
    "\n",
    "            # Process the text using spaCy\n",
    "            doc = nlp(text)\n",
    "\n",
    "            # Extract entities\n",
    "            entities = [(ent.text, ent.label_) for ent in doc.ents]\n",
    "\n",
    "            # Extract keywords\n",
    "            keywords = [token.text for token in doc if token.is_alpha and token.is_stop]\n",
    "\n",
    "            # Search for patterns\n",
    "            pattern = r'sustainability|social responsibility|impact report'\n",
    "            matches = re.findall(pattern, text)\n",
    "\n",
    "            # Extract relevant information\n",
    "            information = []\n",
    "            for match in matches:\n",
    "                # Extract the sentence surrounding the match\n",
    "                sentence = ''\n",
    "                for sent in nltk.sent_tokenize(text):\n",
    "                    if match in sent:\n",
    "                        sentence = sent\n",
    "                        break\n",
    "                information.append((match, sentence))\n",
    "\n",
    "            print(f\"Processed file: {filename}\")\n",
    "            print(information)\n"
   ],
   "id": "8a132a5872fc64b2"
  }
 ],
 "metadata": {
  "kernelspec": {
   "display_name": "Python 3",
   "language": "python",
   "name": "python3"
  },
  "language_info": {
   "codemirror_mode": {
    "name": "ipython",
    "version": 2
   },
   "file_extension": ".py",
   "mimetype": "text/x-python",
   "name": "python",
   "nbconvert_exporter": "python",
   "pygments_lexer": "ipython2",
   "version": "2.7.6"
  }
 },
 "nbformat": 4,
 "nbformat_minor": 5
}
